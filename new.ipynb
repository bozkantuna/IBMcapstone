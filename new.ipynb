{
    "cells": [
        {
            "cell_type": "markdown",
            "metadata": {
                "pycharm": {
                    "name": "#%% md\n"
                }
            },
            "source": "<p style=\"text-align:center\">\n    <a href=\"https://skills.network/?utm_medium=Exinfluencer&utm_source=Exinfluencer&utm_content=000026UJ&utm_term=10006555&utm_id=NA-SkillsNetwork-Channel-SkillsNetworkCoursesIBMDS0321ENSkillsNetwork26802033-2022-01-01\" target=\"_blank\">\n    <img src=\"https://cf-courses-data.s3.us.cloud-object-storage.appdomain.cloud/assets/logos/SN_web_lightmode.png\" width=\"200\" alt=\"Skills Network Logo\"  />\n    </a>\n</p>\n"
        },
        {
            "cell_type": "markdown",
            "metadata": {
                "pycharm": {
                    "name": "#%% md\n"
                }
            },
            "source": "# **Space X  Falcon 9 First Stage Landing Prediction**\n"
        },
        {
            "cell_type": "markdown",
            "metadata": {
                "pycharm": {
                    "name": "#%% md\n"
                }
            },
            "source": "## Lab 2: Data wrangling\n"
        },
        {
            "cell_type": "markdown",
            "metadata": {
                "pycharm": {
                    "name": "#%% md\n"
                }
            },
            "source": "Estimated time needed: **60** minutes\n"
        },
        {
            "cell_type": "markdown",
            "metadata": {
                "pycharm": {
                    "name": "#%% md\n"
                }
            },
            "source": "In this lab, we will perform some Exploratory Data Analysis (EDA) to find some patterns in the data and determine what would be the label for training supervised models.\n\nIn the data set, there are several different cases where the booster did not land successfully. Sometimes a landing was attempted but failed due to an accident; for example, <code>True Ocean</code> means the mission outcome was successfully  landed to a specific region of the ocean while <code>False Ocean</code> means the mission outcome was unsuccessfully landed to a specific region of the ocean. <code>True RTLS</code> means the mission outcome was successfully  landed to a ground pad <code>False RTLS</code> means the mission outcome was unsuccessfully landed to a ground pad.<code>True ASDS</code> means the mission outcome was successfully landed on  a drone ship <code>False ASDS</code> means the mission outcome was unsuccessfully landed on a drone ship.\n\nIn this lab we will mainly convert those outcomes into Training Labels with `1` means the booster successfully landed `0` means it was unsuccessful.\n"
        },
        {
            "cell_type": "markdown",
            "metadata": {
                "pycharm": {
                    "name": "#%% md\n"
                }
            },
            "source": "Falcon 9 first stage will land successfully\n"
        },
        {
            "cell_type": "markdown",
            "metadata": {
                "pycharm": {
                    "name": "#%% md\n"
                }
            },
            "source": "![](https://cf-courses-data.s3.us.cloud-object-storage.appdomain.cloud/IBMDeveloperSkillsNetwork-DS0701EN-SkillsNetwork/api/Images/landing\\_1.gif)\n"
        },
        {
            "cell_type": "markdown",
            "metadata": {
                "pycharm": {
                    "name": "#%% md\n"
                }
            },
            "source": "Several examples of an unsuccessful landing are shown here:\n"
        },
        {
            "cell_type": "markdown",
            "metadata": {
                "pycharm": {
                    "name": "#%% md\n"
                }
            },
            "source": "![](https://cf-courses-data.s3.us.cloud-object-storage.appdomain.cloud/IBMDeveloperSkillsNetwork-DS0701EN-SkillsNetwork/api/Images/crash.gif)\n"
        },
        {
            "cell_type": "markdown",
            "metadata": {
                "pycharm": {
                    "name": "#%% md\n"
                }
            },
            "source": ""
        },
        {
            "cell_type": "markdown",
            "metadata": {
                "pycharm": {
                    "name": "#%% md\n"
                }
            },
            "source": "## Objectives\n\nPerform exploratory  Data Analysis and determine Training Labels\n\n*   Exploratory Data Analysis\n*   Determine Training Labels\n"
        },
        {
            "cell_type": "markdown",
            "metadata": {
                "pycharm": {
                    "name": "#%% md\n"
                }
            },
            "source": "***\n"
        },
        {
            "cell_type": "markdown",
            "metadata": {
                "pycharm": {
                    "name": "#%% md\n"
                }
            },
            "source": "## Import Libraries and Define Auxiliary Functions\n"
        },
        {
            "cell_type": "markdown",
            "metadata": {
                "pycharm": {
                    "name": "#%% md\n"
                }
            },
            "source": "We will import the following libraries.\n"
        },
        {
            "cell_type": "code",
            "execution_count": 1,
            "metadata": {
                "pycharm": {
                    "name": "#%%\n"
                }
            },
            "outputs": [],
            "source": "# Pandas is a software library written for the Python programming language for data manipulation and analysis.\nimport pandas as pd\n#NumPy is a library for the Python programming language, adding support for large, multi-dimensional arrays and matrices, along with a large collection of high-level mathematical functions to operate on these arrays\nimport numpy as np"
        },
        {
            "cell_type": "markdown",
            "metadata": {
                "pycharm": {
                    "name": "#%% md\n"
                }
            },
            "source": "### Data Analysis\n"
        },
        {
            "cell_type": "markdown",
            "metadata": {
                "pycharm": {
                    "name": "#%% md\n"
                }
            },
            "source": "Load Space X dataset, from last section.\n"
        },
        {
            "cell_type": "code",
            "execution_count": 26,
            "metadata": {
                "pycharm": {
                    "name": "#%%\n"
                }
            },
            "outputs": [
                {
                    "data": {
                        "text/html": "<div>\n<style scoped>\n    .dataframe tbody tr th:only-of-type {\n        vertical-align: middle;\n    }\n\n    .dataframe tbody tr th {\n        vertical-align: top;\n    }\n\n    .dataframe thead th {\n        text-align: right;\n    }\n</style>\n<table border=\"1\" class=\"dataframe\">\n  <thead>\n    <tr style=\"text-align: right;\">\n      <th></th>\n      <th>FlightNumber</th>\n      <th>Date</th>\n      <th>BoosterVersion</th>\n      <th>PayloadMass</th>\n      <th>Orbit</th>\n      <th>LaunchSite</th>\n      <th>Outcome</th>\n      <th>Flights</th>\n      <th>GridFins</th>\n      <th>Reused</th>\n      <th>Legs</th>\n      <th>LandingPad</th>\n      <th>Block</th>\n      <th>ReusedCount</th>\n      <th>Serial</th>\n      <th>Longitude</th>\n      <th>Latitude</th>\n    </tr>\n  </thead>\n  <tbody>\n    <tr>\n      <th>0</th>\n      <td>1</td>\n      <td>2010-06-04</td>\n      <td>Falcon 9</td>\n      <td>6104.959412</td>\n      <td>LEO</td>\n      <td>CCAFS SLC 40</td>\n      <td>None None</td>\n      <td>1</td>\n      <td>False</td>\n      <td>False</td>\n      <td>False</td>\n      <td>NaN</td>\n      <td>1.0</td>\n      <td>0</td>\n      <td>B0003</td>\n      <td>-80.577366</td>\n      <td>28.561857</td>\n    </tr>\n    <tr>\n      <th>1</th>\n      <td>2</td>\n      <td>2012-05-22</td>\n      <td>Falcon 9</td>\n      <td>525.000000</td>\n      <td>LEO</td>\n      <td>CCAFS SLC 40</td>\n      <td>None None</td>\n      <td>1</td>\n      <td>False</td>\n      <td>False</td>\n      <td>False</td>\n      <td>NaN</td>\n      <td>1.0</td>\n      <td>0</td>\n      <td>B0005</td>\n      <td>-80.577366</td>\n      <td>28.561857</td>\n    </tr>\n    <tr>\n      <th>2</th>\n      <td>3</td>\n      <td>2013-03-01</td>\n      <td>Falcon 9</td>\n      <td>677.000000</td>\n      <td>ISS</td>\n      <td>CCAFS SLC 40</td>\n      <td>None None</td>\n      <td>1</td>\n      <td>False</td>\n      <td>False</td>\n      <td>False</td>\n      <td>NaN</td>\n      <td>1.0</td>\n      <td>0</td>\n      <td>B0007</td>\n      <td>-80.577366</td>\n      <td>28.561857</td>\n    </tr>\n    <tr>\n      <th>3</th>\n      <td>4</td>\n      <td>2013-09-29</td>\n      <td>Falcon 9</td>\n      <td>500.000000</td>\n      <td>PO</td>\n      <td>VAFB SLC 4E</td>\n      <td>False Ocean</td>\n      <td>1</td>\n      <td>False</td>\n      <td>False</td>\n      <td>False</td>\n      <td>NaN</td>\n      <td>1.0</td>\n      <td>0</td>\n      <td>B1003</td>\n      <td>-120.610829</td>\n      <td>34.632093</td>\n    </tr>\n    <tr>\n      <th>4</th>\n      <td>5</td>\n      <td>2013-12-03</td>\n      <td>Falcon 9</td>\n      <td>3170.000000</td>\n      <td>GTO</td>\n      <td>CCAFS SLC 40</td>\n      <td>None None</td>\n      <td>1</td>\n      <td>False</td>\n      <td>False</td>\n      <td>False</td>\n      <td>NaN</td>\n      <td>1.0</td>\n      <td>0</td>\n      <td>B1004</td>\n      <td>-80.577366</td>\n      <td>28.561857</td>\n    </tr>\n    <tr>\n      <th>5</th>\n      <td>6</td>\n      <td>2014-01-06</td>\n      <td>Falcon 9</td>\n      <td>3325.000000</td>\n      <td>GTO</td>\n      <td>CCAFS SLC 40</td>\n      <td>None None</td>\n      <td>1</td>\n      <td>False</td>\n      <td>False</td>\n      <td>False</td>\n      <td>NaN</td>\n      <td>1.0</td>\n      <td>0</td>\n      <td>B1005</td>\n      <td>-80.577366</td>\n      <td>28.561857</td>\n    </tr>\n    <tr>\n      <th>6</th>\n      <td>7</td>\n      <td>2014-04-18</td>\n      <td>Falcon 9</td>\n      <td>2296.000000</td>\n      <td>ISS</td>\n      <td>CCAFS SLC 40</td>\n      <td>True Ocean</td>\n      <td>1</td>\n      <td>False</td>\n      <td>False</td>\n      <td>True</td>\n      <td>NaN</td>\n      <td>1.0</td>\n      <td>0</td>\n      <td>B1006</td>\n      <td>-80.577366</td>\n      <td>28.561857</td>\n    </tr>\n    <tr>\n      <th>7</th>\n      <td>8</td>\n      <td>2014-07-14</td>\n      <td>Falcon 9</td>\n      <td>1316.000000</td>\n      <td>LEO</td>\n      <td>CCAFS SLC 40</td>\n      <td>True Ocean</td>\n      <td>1</td>\n      <td>False</td>\n      <td>False</td>\n      <td>True</td>\n      <td>NaN</td>\n      <td>1.0</td>\n      <td>0</td>\n      <td>B1007</td>\n      <td>-80.577366</td>\n      <td>28.561857</td>\n    </tr>\n    <tr>\n      <th>8</th>\n      <td>9</td>\n      <td>2014-08-05</td>\n      <td>Falcon 9</td>\n      <td>4535.000000</td>\n      <td>GTO</td>\n      <td>CCAFS SLC 40</td>\n      <td>None None</td>\n      <td>1</td>\n      <td>False</td>\n      <td>False</td>\n      <td>False</td>\n      <td>NaN</td>\n      <td>1.0</td>\n      <td>0</td>\n      <td>B1008</td>\n      <td>-80.577366</td>\n      <td>28.561857</td>\n    </tr>\n    <tr>\n      <th>9</th>\n      <td>10</td>\n      <td>2014-09-07</td>\n      <td>Falcon 9</td>\n      <td>4428.000000</td>\n      <td>GTO</td>\n      <td>CCAFS SLC 40</td>\n      <td>None None</td>\n      <td>1</td>\n      <td>False</td>\n      <td>False</td>\n      <td>False</td>\n      <td>NaN</td>\n      <td>1.0</td>\n      <td>0</td>\n      <td>B1011</td>\n      <td>-80.577366</td>\n      <td>28.561857</td>\n    </tr>\n  </tbody>\n</table>\n</div>",
                        "text/plain": "   FlightNumber        Date BoosterVersion  PayloadMass Orbit    LaunchSite  \\\n0             1  2010-06-04       Falcon 9  6104.959412   LEO  CCAFS SLC 40   \n1             2  2012-05-22       Falcon 9   525.000000   LEO  CCAFS SLC 40   \n2             3  2013-03-01       Falcon 9   677.000000   ISS  CCAFS SLC 40   \n3             4  2013-09-29       Falcon 9   500.000000    PO   VAFB SLC 4E   \n4             5  2013-12-03       Falcon 9  3170.000000   GTO  CCAFS SLC 40   \n5             6  2014-01-06       Falcon 9  3325.000000   GTO  CCAFS SLC 40   \n6             7  2014-04-18       Falcon 9  2296.000000   ISS  CCAFS SLC 40   \n7             8  2014-07-14       Falcon 9  1316.000000   LEO  CCAFS SLC 40   \n8             9  2014-08-05       Falcon 9  4535.000000   GTO  CCAFS SLC 40   \n9            10  2014-09-07       Falcon 9  4428.000000   GTO  CCAFS SLC 40   \n\n       Outcome  Flights  GridFins  Reused   Legs LandingPad  Block  \\\n0    None None        1     False   False  False        NaN    1.0   \n1    None None        1     False   False  False        NaN    1.0   \n2    None None        1     False   False  False        NaN    1.0   \n3  False Ocean        1     False   False  False        NaN    1.0   \n4    None None        1     False   False  False        NaN    1.0   \n5    None None        1     False   False  False        NaN    1.0   \n6   True Ocean        1     False   False   True        NaN    1.0   \n7   True Ocean        1     False   False   True        NaN    1.0   \n8    None None        1     False   False  False        NaN    1.0   \n9    None None        1     False   False  False        NaN    1.0   \n\n   ReusedCount Serial   Longitude   Latitude  \n0            0  B0003  -80.577366  28.561857  \n1            0  B0005  -80.577366  28.561857  \n2            0  B0007  -80.577366  28.561857  \n3            0  B1003 -120.610829  34.632093  \n4            0  B1004  -80.577366  28.561857  \n5            0  B1005  -80.577366  28.561857  \n6            0  B1006  -80.577366  28.561857  \n7            0  B1007  -80.577366  28.561857  \n8            0  B1008  -80.577366  28.561857  \n9            0  B1011  -80.577366  28.561857  "
                    },
                    "execution_count": 26,
                    "metadata": {},
                    "output_type": "execute_result"
                }
            ],
            "source": "df=pd.read_csv(\"https://cf-courses-data.s3.us.cloud-object-storage.appdomain.cloud/IBM-DS0321EN-SkillsNetwork/datasets/dataset_part_1.csv\")\ndf.head(10)"
        },
        {
            "cell_type": "code",
            "execution_count": 28,
            "metadata": {},
            "outputs": [
                {
                    "ename": "KeyError",
                    "evalue": "\"['Orbits'] not in index\"",
                    "output_type": "error",
                    "traceback": [
                        "\u001b[0;31m---------------------------------------------------------------------------\u001b[0m",
                        "\u001b[0;31mKeyError\u001b[0m                                  Traceback (most recent call last)",
                        "Input \u001b[0;32mIn [28]\u001b[0m, in \u001b[0;36m<cell line: 2>\u001b[0;34m()\u001b[0m\n\u001b[1;32m      1\u001b[0m \u001b[38;5;28;01mfrom\u001b[39;00m \u001b[38;5;21;01msklearn\u001b[39;00m\u001b[38;5;21;01m.\u001b[39;00m\u001b[38;5;21;01mpreprocessing\u001b[39;00m \u001b[38;5;28;01mimport\u001b[39;00m OneHotEncoder\n\u001b[0;32m----> 2\u001b[0m ohe \u001b[38;5;241m=\u001b[39m OneHotEncoder()\u001b[38;5;241m.\u001b[39mfit(\u001b[43mdf\u001b[49m\u001b[43m[\u001b[49m\u001b[43m[\u001b[49m\u001b[38;5;124;43m'\u001b[39;49m\u001b[38;5;124;43mOrbits\u001b[39;49m\u001b[38;5;124;43m'\u001b[39;49m\u001b[43m,\u001b[49m\u001b[43m \u001b[49m\u001b[38;5;124;43m'\u001b[39;49m\u001b[38;5;124;43mLaunchSite\u001b[39;49m\u001b[38;5;124;43m'\u001b[39;49m\u001b[43m,\u001b[49m\u001b[43m \u001b[49m\u001b[38;5;124;43m'\u001b[39;49m\u001b[38;5;124;43mLandingPad\u001b[39;49m\u001b[38;5;124;43m'\u001b[39;49m\u001b[43m,\u001b[49m\u001b[43m \u001b[49m\u001b[38;5;124;43m'\u001b[39;49m\u001b[38;5;124;43mSerial\u001b[39;49m\u001b[38;5;124;43m'\u001b[39;49m\u001b[43m]\u001b[49m\u001b[43m]\u001b[49m)\u001b[38;5;241m.\u001b[39mtransform(df[[\u001b[38;5;124m'\u001b[39m\u001b[38;5;124mOrbits\u001b[39m\u001b[38;5;124m'\u001b[39m, \u001b[38;5;124m'\u001b[39m\u001b[38;5;124mLaunchSite\u001b[39m\u001b[38;5;124m'\u001b[39m, \u001b[38;5;124m'\u001b[39m\u001b[38;5;124mLandingPad\u001b[39m\u001b[38;5;124m'\u001b[39m, \u001b[38;5;124m'\u001b[39m\u001b[38;5;124mSerial\u001b[39m\u001b[38;5;124m'\u001b[39m]])\n\u001b[1;32m      3\u001b[0m df\n",
                        "File \u001b[0;32m/opt/conda/envs/Python-3.10/lib/python3.10/site-packages/pandas/core/frame.py:3511\u001b[0m, in \u001b[0;36mDataFrame.__getitem__\u001b[0;34m(self, key)\u001b[0m\n\u001b[1;32m   3509\u001b[0m     \u001b[38;5;28;01mif\u001b[39;00m is_iterator(key):\n\u001b[1;32m   3510\u001b[0m         key \u001b[38;5;241m=\u001b[39m \u001b[38;5;28mlist\u001b[39m(key)\n\u001b[0;32m-> 3511\u001b[0m     indexer \u001b[38;5;241m=\u001b[39m \u001b[38;5;28;43mself\u001b[39;49m\u001b[38;5;241;43m.\u001b[39;49m\u001b[43mcolumns\u001b[49m\u001b[38;5;241;43m.\u001b[39;49m\u001b[43m_get_indexer_strict\u001b[49m\u001b[43m(\u001b[49m\u001b[43mkey\u001b[49m\u001b[43m,\u001b[49m\u001b[43m \u001b[49m\u001b[38;5;124;43m\"\u001b[39;49m\u001b[38;5;124;43mcolumns\u001b[39;49m\u001b[38;5;124;43m\"\u001b[39;49m\u001b[43m)\u001b[49m[\u001b[38;5;241m1\u001b[39m]\n\u001b[1;32m   3513\u001b[0m \u001b[38;5;66;03m# take() does not accept boolean indexers\u001b[39;00m\n\u001b[1;32m   3514\u001b[0m \u001b[38;5;28;01mif\u001b[39;00m \u001b[38;5;28mgetattr\u001b[39m(indexer, \u001b[38;5;124m\"\u001b[39m\u001b[38;5;124mdtype\u001b[39m\u001b[38;5;124m\"\u001b[39m, \u001b[38;5;28;01mNone\u001b[39;00m) \u001b[38;5;241m==\u001b[39m \u001b[38;5;28mbool\u001b[39m:\n",
                        "File \u001b[0;32m/opt/conda/envs/Python-3.10/lib/python3.10/site-packages/pandas/core/indexes/base.py:5782\u001b[0m, in \u001b[0;36mIndex._get_indexer_strict\u001b[0;34m(self, key, axis_name)\u001b[0m\n\u001b[1;32m   5779\u001b[0m \u001b[38;5;28;01melse\u001b[39;00m:\n\u001b[1;32m   5780\u001b[0m     keyarr, indexer, new_indexer \u001b[38;5;241m=\u001b[39m \u001b[38;5;28mself\u001b[39m\u001b[38;5;241m.\u001b[39m_reindex_non_unique(keyarr)\n\u001b[0;32m-> 5782\u001b[0m \u001b[38;5;28;43mself\u001b[39;49m\u001b[38;5;241;43m.\u001b[39;49m\u001b[43m_raise_if_missing\u001b[49m\u001b[43m(\u001b[49m\u001b[43mkeyarr\u001b[49m\u001b[43m,\u001b[49m\u001b[43m \u001b[49m\u001b[43mindexer\u001b[49m\u001b[43m,\u001b[49m\u001b[43m \u001b[49m\u001b[43maxis_name\u001b[49m\u001b[43m)\u001b[49m\n\u001b[1;32m   5784\u001b[0m keyarr \u001b[38;5;241m=\u001b[39m \u001b[38;5;28mself\u001b[39m\u001b[38;5;241m.\u001b[39mtake(indexer)\n\u001b[1;32m   5785\u001b[0m \u001b[38;5;28;01mif\u001b[39;00m \u001b[38;5;28misinstance\u001b[39m(key, Index):\n\u001b[1;32m   5786\u001b[0m     \u001b[38;5;66;03m# GH 42790 - Preserve name from an Index\u001b[39;00m\n",
                        "File \u001b[0;32m/opt/conda/envs/Python-3.10/lib/python3.10/site-packages/pandas/core/indexes/base.py:5845\u001b[0m, in \u001b[0;36mIndex._raise_if_missing\u001b[0;34m(self, key, indexer, axis_name)\u001b[0m\n\u001b[1;32m   5842\u001b[0m     \u001b[38;5;28;01mraise\u001b[39;00m \u001b[38;5;167;01mKeyError\u001b[39;00m(\u001b[38;5;124mf\u001b[39m\u001b[38;5;124m\"\u001b[39m\u001b[38;5;124mNone of [\u001b[39m\u001b[38;5;132;01m{\u001b[39;00mkey\u001b[38;5;132;01m}\u001b[39;00m\u001b[38;5;124m] are in the [\u001b[39m\u001b[38;5;132;01m{\u001b[39;00maxis_name\u001b[38;5;132;01m}\u001b[39;00m\u001b[38;5;124m]\u001b[39m\u001b[38;5;124m\"\u001b[39m)\n\u001b[1;32m   5844\u001b[0m not_found \u001b[38;5;241m=\u001b[39m \u001b[38;5;28mlist\u001b[39m(ensure_index(key)[missing_mask\u001b[38;5;241m.\u001b[39mnonzero()[\u001b[38;5;241m0\u001b[39m]]\u001b[38;5;241m.\u001b[39munique())\n\u001b[0;32m-> 5845\u001b[0m \u001b[38;5;28;01mraise\u001b[39;00m \u001b[38;5;167;01mKeyError\u001b[39;00m(\u001b[38;5;124mf\u001b[39m\u001b[38;5;124m\"\u001b[39m\u001b[38;5;132;01m{\u001b[39;00mnot_found\u001b[38;5;132;01m}\u001b[39;00m\u001b[38;5;124m not in index\u001b[39m\u001b[38;5;124m\"\u001b[39m)\n",
                        "\u001b[0;31mKeyError\u001b[0m: \"['Orbits'] not in index\""
                    ]
                }
            ],
            "source": "from sklearn.preprocessing import OneHotEncoder\nohe = OneHotEncoder().fit(df[['Orbits', 'LaunchSite', 'LandingPad', 'Serial']]).transform(df[['Orbits', 'LaunchSite', 'LandingPad', 'Serial']])\ndf"
        },
        {
            "cell_type": "code",
            "execution_count": 6,
            "metadata": {},
            "outputs": [
                {
                    "data": {
                        "text/html": "<div>\n<style scoped>\n    .dataframe tbody tr th:only-of-type {\n        vertical-align: middle;\n    }\n\n    .dataframe tbody tr th {\n        vertical-align: top;\n    }\n\n    .dataframe thead th {\n        text-align: right;\n    }\n</style>\n<table border=\"1\" class=\"dataframe\">\n  <thead>\n    <tr style=\"text-align: right;\">\n      <th></th>\n      <th>FlightNumber</th>\n      <th>Date</th>\n      <th>BoosterVersion</th>\n      <th>PayloadMass</th>\n      <th>Orbit</th>\n      <th>LaunchSite</th>\n      <th>Outcome</th>\n      <th>Flights</th>\n      <th>GridFins</th>\n      <th>Reused</th>\n      <th>Legs</th>\n      <th>LandingPad</th>\n      <th>Block</th>\n      <th>ReusedCount</th>\n      <th>Serial</th>\n      <th>Longitude</th>\n      <th>Latitude</th>\n    </tr>\n  </thead>\n  <tbody>\n    <tr>\n      <th>0</th>\n      <td>1</td>\n      <td>2010-06-04</td>\n      <td>Falcon 9</td>\n      <td>6104.959412</td>\n      <td>LEO</td>\n      <td>CCAFS SLC 40</td>\n      <td>None None</td>\n      <td>1</td>\n      <td>False</td>\n      <td>False</td>\n      <td>False</td>\n      <td>NaN</td>\n      <td>1.0</td>\n      <td>0</td>\n      <td>B0003</td>\n      <td>-80.577366</td>\n      <td>28.561857</td>\n    </tr>\n    <tr>\n      <th>1</th>\n      <td>2</td>\n      <td>2012-05-22</td>\n      <td>Falcon 9</td>\n      <td>525.000000</td>\n      <td>LEO</td>\n      <td>CCAFS SLC 40</td>\n      <td>None None</td>\n      <td>1</td>\n      <td>False</td>\n      <td>False</td>\n      <td>False</td>\n      <td>NaN</td>\n      <td>1.0</td>\n      <td>0</td>\n      <td>B0005</td>\n      <td>-80.577366</td>\n      <td>28.561857</td>\n    </tr>\n    <tr>\n      <th>2</th>\n      <td>3</td>\n      <td>2013-03-01</td>\n      <td>Falcon 9</td>\n      <td>677.000000</td>\n      <td>ISS</td>\n      <td>CCAFS SLC 40</td>\n      <td>None None</td>\n      <td>1</td>\n      <td>False</td>\n      <td>False</td>\n      <td>False</td>\n      <td>NaN</td>\n      <td>1.0</td>\n      <td>0</td>\n      <td>B0007</td>\n      <td>-80.577366</td>\n      <td>28.561857</td>\n    </tr>\n    <tr>\n      <th>4</th>\n      <td>5</td>\n      <td>2013-12-03</td>\n      <td>Falcon 9</td>\n      <td>3170.000000</td>\n      <td>GTO</td>\n      <td>CCAFS SLC 40</td>\n      <td>None None</td>\n      <td>1</td>\n      <td>False</td>\n      <td>False</td>\n      <td>False</td>\n      <td>NaN</td>\n      <td>1.0</td>\n      <td>0</td>\n      <td>B1004</td>\n      <td>-80.577366</td>\n      <td>28.561857</td>\n    </tr>\n    <tr>\n      <th>5</th>\n      <td>6</td>\n      <td>2014-01-06</td>\n      <td>Falcon 9</td>\n      <td>3325.000000</td>\n      <td>GTO</td>\n      <td>CCAFS SLC 40</td>\n      <td>None None</td>\n      <td>1</td>\n      <td>False</td>\n      <td>False</td>\n      <td>False</td>\n      <td>NaN</td>\n      <td>1.0</td>\n      <td>0</td>\n      <td>B1005</td>\n      <td>-80.577366</td>\n      <td>28.561857</td>\n    </tr>\n    <tr>\n      <th>6</th>\n      <td>7</td>\n      <td>2014-04-18</td>\n      <td>Falcon 9</td>\n      <td>2296.000000</td>\n      <td>ISS</td>\n      <td>CCAFS SLC 40</td>\n      <td>True Ocean</td>\n      <td>1</td>\n      <td>False</td>\n      <td>False</td>\n      <td>True</td>\n      <td>NaN</td>\n      <td>1.0</td>\n      <td>0</td>\n      <td>B1006</td>\n      <td>-80.577366</td>\n      <td>28.561857</td>\n    </tr>\n    <tr>\n      <th>7</th>\n      <td>8</td>\n      <td>2014-07-14</td>\n      <td>Falcon 9</td>\n      <td>1316.000000</td>\n      <td>LEO</td>\n      <td>CCAFS SLC 40</td>\n      <td>True Ocean</td>\n      <td>1</td>\n      <td>False</td>\n      <td>False</td>\n      <td>True</td>\n      <td>NaN</td>\n      <td>1.0</td>\n      <td>0</td>\n      <td>B1007</td>\n      <td>-80.577366</td>\n      <td>28.561857</td>\n    </tr>\n    <tr>\n      <th>8</th>\n      <td>9</td>\n      <td>2014-08-05</td>\n      <td>Falcon 9</td>\n      <td>4535.000000</td>\n      <td>GTO</td>\n      <td>CCAFS SLC 40</td>\n      <td>None None</td>\n      <td>1</td>\n      <td>False</td>\n      <td>False</td>\n      <td>False</td>\n      <td>NaN</td>\n      <td>1.0</td>\n      <td>0</td>\n      <td>B1008</td>\n      <td>-80.577366</td>\n      <td>28.561857</td>\n    </tr>\n    <tr>\n      <th>9</th>\n      <td>10</td>\n      <td>2014-09-07</td>\n      <td>Falcon 9</td>\n      <td>4428.000000</td>\n      <td>GTO</td>\n      <td>CCAFS SLC 40</td>\n      <td>None None</td>\n      <td>1</td>\n      <td>False</td>\n      <td>False</td>\n      <td>False</td>\n      <td>NaN</td>\n      <td>1.0</td>\n      <td>0</td>\n      <td>B1011</td>\n      <td>-80.577366</td>\n      <td>28.561857</td>\n    </tr>\n    <tr>\n      <th>10</th>\n      <td>11</td>\n      <td>2014-09-21</td>\n      <td>Falcon 9</td>\n      <td>2216.000000</td>\n      <td>ISS</td>\n      <td>CCAFS SLC 40</td>\n      <td>False Ocean</td>\n      <td>1</td>\n      <td>False</td>\n      <td>False</td>\n      <td>False</td>\n      <td>NaN</td>\n      <td>1.0</td>\n      <td>0</td>\n      <td>B1010</td>\n      <td>-80.577366</td>\n      <td>28.561857</td>\n    </tr>\n    <tr>\n      <th>11</th>\n      <td>12</td>\n      <td>2015-01-10</td>\n      <td>Falcon 9</td>\n      <td>2395.000000</td>\n      <td>ISS</td>\n      <td>CCAFS SLC 40</td>\n      <td>False ASDS</td>\n      <td>1</td>\n      <td>True</td>\n      <td>False</td>\n      <td>True</td>\n      <td>5e9e3032383ecb761634e7cb</td>\n      <td>1.0</td>\n      <td>0</td>\n      <td>B1012</td>\n      <td>-80.577366</td>\n      <td>28.561857</td>\n    </tr>\n    <tr>\n      <th>12</th>\n      <td>13</td>\n      <td>2015-02-11</td>\n      <td>Falcon 9</td>\n      <td>570.000000</td>\n      <td>ES-L1</td>\n      <td>CCAFS SLC 40</td>\n      <td>True Ocean</td>\n      <td>1</td>\n      <td>True</td>\n      <td>False</td>\n      <td>True</td>\n      <td>NaN</td>\n      <td>1.0</td>\n      <td>0</td>\n      <td>B1013</td>\n      <td>-80.577366</td>\n      <td>28.561857</td>\n    </tr>\n    <tr>\n      <th>13</th>\n      <td>14</td>\n      <td>2015-04-14</td>\n      <td>Falcon 9</td>\n      <td>1898.000000</td>\n      <td>ISS</td>\n      <td>CCAFS SLC 40</td>\n      <td>False ASDS</td>\n      <td>1</td>\n      <td>True</td>\n      <td>False</td>\n      <td>True</td>\n      <td>5e9e3032383ecb761634e7cb</td>\n      <td>1.0</td>\n      <td>0</td>\n      <td>B1015</td>\n      <td>-80.577366</td>\n      <td>28.561857</td>\n    </tr>\n    <tr>\n      <th>14</th>\n      <td>15</td>\n      <td>2015-04-27</td>\n      <td>Falcon 9</td>\n      <td>4707.000000</td>\n      <td>GTO</td>\n      <td>CCAFS SLC 40</td>\n      <td>None None</td>\n      <td>1</td>\n      <td>False</td>\n      <td>False</td>\n      <td>False</td>\n      <td>NaN</td>\n      <td>1.0</td>\n      <td>0</td>\n      <td>B1016</td>\n      <td>-80.577366</td>\n      <td>28.561857</td>\n    </tr>\n    <tr>\n      <th>15</th>\n      <td>16</td>\n      <td>2015-06-28</td>\n      <td>Falcon 9</td>\n      <td>2477.000000</td>\n      <td>ISS</td>\n      <td>CCAFS SLC 40</td>\n      <td>None ASDS</td>\n      <td>1</td>\n      <td>True</td>\n      <td>False</td>\n      <td>True</td>\n      <td>5e9e3032383ecb6bb234e7ca</td>\n      <td>1.0</td>\n      <td>0</td>\n      <td>B1018</td>\n      <td>-80.577366</td>\n      <td>28.561857</td>\n    </tr>\n    <tr>\n      <th>16</th>\n      <td>17</td>\n      <td>2015-12-22</td>\n      <td>Falcon 9</td>\n      <td>2034.000000</td>\n      <td>LEO</td>\n      <td>CCAFS SLC 40</td>\n      <td>True RTLS</td>\n      <td>1</td>\n      <td>True</td>\n      <td>False</td>\n      <td>True</td>\n      <td>5e9e3032383ecb267a34e7c7</td>\n      <td>1.0</td>\n      <td>0</td>\n      <td>B1019</td>\n      <td>-80.577366</td>\n      <td>28.561857</td>\n    </tr>\n    <tr>\n      <th>18</th>\n      <td>19</td>\n      <td>2016-03-04</td>\n      <td>Falcon 9</td>\n      <td>5271.000000</td>\n      <td>GTO</td>\n      <td>CCAFS SLC 40</td>\n      <td>False ASDS</td>\n      <td>1</td>\n      <td>True</td>\n      <td>False</td>\n      <td>True</td>\n      <td>5e9e3032383ecb6bb234e7ca</td>\n      <td>1.0</td>\n      <td>0</td>\n      <td>B1020</td>\n      <td>-80.577366</td>\n      <td>28.561857</td>\n    </tr>\n    <tr>\n      <th>19</th>\n      <td>20</td>\n      <td>2016-04-08</td>\n      <td>Falcon 9</td>\n      <td>3136.000000</td>\n      <td>ISS</td>\n      <td>CCAFS SLC 40</td>\n      <td>True ASDS</td>\n      <td>1</td>\n      <td>True</td>\n      <td>False</td>\n      <td>True</td>\n      <td>5e9e3032383ecb6bb234e7ca</td>\n      <td>2.0</td>\n      <td>1</td>\n      <td>B1021</td>\n      <td>-80.577366</td>\n      <td>28.561857</td>\n    </tr>\n    <tr>\n      <th>20</th>\n      <td>21</td>\n      <td>2016-05-06</td>\n      <td>Falcon 9</td>\n      <td>4696.000000</td>\n      <td>GTO</td>\n      <td>CCAFS SLC 40</td>\n      <td>True ASDS</td>\n      <td>1</td>\n      <td>True</td>\n      <td>False</td>\n      <td>True</td>\n      <td>5e9e3032383ecb6bb234e7ca</td>\n      <td>2.0</td>\n      <td>0</td>\n      <td>B1022</td>\n      <td>-80.577366</td>\n      <td>28.561857</td>\n    </tr>\n    <tr>\n      <th>21</th>\n      <td>22</td>\n      <td>2016-05-27</td>\n      <td>Falcon 9</td>\n      <td>3100.000000</td>\n      <td>GTO</td>\n      <td>CCAFS SLC 40</td>\n      <td>True ASDS</td>\n      <td>1</td>\n      <td>True</td>\n      <td>False</td>\n      <td>True</td>\n      <td>5e9e3032383ecb6bb234e7ca</td>\n      <td>2.0</td>\n      <td>1</td>\n      <td>B1023</td>\n      <td>-80.577366</td>\n      <td>28.561857</td>\n    </tr>\n    <tr>\n      <th>22</th>\n      <td>23</td>\n      <td>2016-07-18</td>\n      <td>Falcon 9</td>\n      <td>2257.000000</td>\n      <td>ISS</td>\n      <td>CCAFS SLC 40</td>\n      <td>True RTLS</td>\n      <td>1</td>\n      <td>True</td>\n      <td>False</td>\n      <td>True</td>\n      <td>5e9e3032383ecb267a34e7c7</td>\n      <td>2.0</td>\n      <td>1</td>\n      <td>B1025</td>\n      <td>-80.577366</td>\n      <td>28.561857</td>\n    </tr>\n    <tr>\n      <th>23</th>\n      <td>24</td>\n      <td>2016-08-14</td>\n      <td>Falcon 9</td>\n      <td>4600.000000</td>\n      <td>GTO</td>\n      <td>CCAFS SLC 40</td>\n      <td>True ASDS</td>\n      <td>1</td>\n      <td>True</td>\n      <td>False</td>\n      <td>True</td>\n      <td>5e9e3032383ecb6bb234e7ca</td>\n      <td>2.0</td>\n      <td>0</td>\n      <td>B1026</td>\n      <td>-80.577366</td>\n      <td>28.561857</td>\n    </tr>\n    <tr>\n      <th>24</th>\n      <td>25</td>\n      <td>2016-09-01</td>\n      <td>Falcon 9</td>\n      <td>5500.000000</td>\n      <td>GTO</td>\n      <td>CCAFS SLC 40</td>\n      <td>None ASDS</td>\n      <td>1</td>\n      <td>True</td>\n      <td>False</td>\n      <td>True</td>\n      <td>5e9e3032383ecb6bb234e7ca</td>\n      <td>3.0</td>\n      <td>0</td>\n      <td>B1028</td>\n      <td>-80.577366</td>\n      <td>28.561857</td>\n    </tr>\n    <tr>\n      <th>41</th>\n      <td>42</td>\n      <td>2017-12-15</td>\n      <td>Falcon 9</td>\n      <td>2205.000000</td>\n      <td>ISS</td>\n      <td>CCAFS SLC 40</td>\n      <td>True RTLS</td>\n      <td>2</td>\n      <td>True</td>\n      <td>True</td>\n      <td>True</td>\n      <td>5e9e3032383ecb267a34e7c7</td>\n      <td>3.0</td>\n      <td>1</td>\n      <td>B1035</td>\n      <td>-80.577366</td>\n      <td>28.561857</td>\n    </tr>\n    <tr>\n      <th>43</th>\n      <td>44</td>\n      <td>2018-01-08</td>\n      <td>Falcon 9</td>\n      <td>6104.959412</td>\n      <td>LEO</td>\n      <td>CCAFS SLC 40</td>\n      <td>True RTLS</td>\n      <td>1</td>\n      <td>True</td>\n      <td>False</td>\n      <td>True</td>\n      <td>5e9e3032383ecb267a34e7c7</td>\n      <td>4.0</td>\n      <td>1</td>\n      <td>B1043</td>\n      <td>-80.577366</td>\n      <td>28.561857</td>\n    </tr>\n    <tr>\n      <th>44</th>\n      <td>45</td>\n      <td>2018-01-31</td>\n      <td>Falcon 9</td>\n      <td>4230.000000</td>\n      <td>GTO</td>\n      <td>CCAFS SLC 40</td>\n      <td>True Ocean</td>\n      <td>2</td>\n      <td>True</td>\n      <td>True</td>\n      <td>True</td>\n      <td>NaN</td>\n      <td>3.0</td>\n      <td>1</td>\n      <td>B1032</td>\n      <td>-80.577366</td>\n      <td>28.561857</td>\n    </tr>\n    <tr>\n      <th>45</th>\n      <td>46</td>\n      <td>2018-03-06</td>\n      <td>Falcon 9</td>\n      <td>6092.000000</td>\n      <td>GTO</td>\n      <td>CCAFS SLC 40</td>\n      <td>None None</td>\n      <td>1</td>\n      <td>True</td>\n      <td>False</td>\n      <td>True</td>\n      <td>NaN</td>\n      <td>4.0</td>\n      <td>0</td>\n      <td>B1044</td>\n      <td>-80.577366</td>\n      <td>28.561857</td>\n    </tr>\n    <tr>\n      <th>47</th>\n      <td>48</td>\n      <td>2018-04-02</td>\n      <td>Falcon 9</td>\n      <td>2760.000000</td>\n      <td>ISS</td>\n      <td>CCAFS SLC 40</td>\n      <td>None None</td>\n      <td>2</td>\n      <td>True</td>\n      <td>True</td>\n      <td>True</td>\n      <td>NaN</td>\n      <td>4.0</td>\n      <td>1</td>\n      <td>B1039</td>\n      <td>-80.577366</td>\n      <td>28.561857</td>\n    </tr>\n    <tr>\n      <th>48</th>\n      <td>49</td>\n      <td>2018-04-18</td>\n      <td>Falcon 9</td>\n      <td>350.000000</td>\n      <td>HEO</td>\n      <td>CCAFS SLC 40</td>\n      <td>True ASDS</td>\n      <td>1</td>\n      <td>True</td>\n      <td>False</td>\n      <td>True</td>\n      <td>5e9e3032383ecb6bb234e7ca</td>\n      <td>4.0</td>\n      <td>1</td>\n      <td>B1045</td>\n      <td>-80.577366</td>\n      <td>28.561857</td>\n    </tr>\n    <tr>\n      <th>50</th>\n      <td>51</td>\n      <td>2018-06-04</td>\n      <td>Falcon 9</td>\n      <td>5383.850000</td>\n      <td>GTO</td>\n      <td>CCAFS SLC 40</td>\n      <td>None None</td>\n      <td>2</td>\n      <td>False</td>\n      <td>True</td>\n      <td>False</td>\n      <td>NaN</td>\n      <td>4.0</td>\n      <td>1</td>\n      <td>B1040</td>\n      <td>-80.577366</td>\n      <td>28.561857</td>\n    </tr>\n    <tr>\n      <th>51</th>\n      <td>52</td>\n      <td>2018-06-29</td>\n      <td>Falcon 9</td>\n      <td>2410.000000</td>\n      <td>ISS</td>\n      <td>CCAFS SLC 40</td>\n      <td>None None</td>\n      <td>2</td>\n      <td>False</td>\n      <td>True</td>\n      <td>False</td>\n      <td>NaN</td>\n      <td>4.0</td>\n      <td>1</td>\n      <td>B1045</td>\n      <td>-80.577366</td>\n      <td>28.561857</td>\n    </tr>\n    <tr>\n      <th>52</th>\n      <td>53</td>\n      <td>2018-07-22</td>\n      <td>Falcon 9</td>\n      <td>7076.000000</td>\n      <td>GTO</td>\n      <td>CCAFS SLC 40</td>\n      <td>True ASDS</td>\n      <td>1</td>\n      <td>True</td>\n      <td>False</td>\n      <td>True</td>\n      <td>5e9e3032383ecb6bb234e7ca</td>\n      <td>5.0</td>\n      <td>2</td>\n      <td>B1047</td>\n      <td>-80.577366</td>\n      <td>28.561857</td>\n    </tr>\n    <tr>\n      <th>54</th>\n      <td>55</td>\n      <td>2018-08-07</td>\n      <td>Falcon 9</td>\n      <td>5800.000000</td>\n      <td>GTO</td>\n      <td>CCAFS SLC 40</td>\n      <td>True ASDS</td>\n      <td>2</td>\n      <td>True</td>\n      <td>True</td>\n      <td>True</td>\n      <td>5e9e3032383ecb6bb234e7ca</td>\n      <td>5.0</td>\n      <td>3</td>\n      <td>B1046</td>\n      <td>-80.577366</td>\n      <td>28.561857</td>\n    </tr>\n    <tr>\n      <th>55</th>\n      <td>56</td>\n      <td>2018-09-10</td>\n      <td>Falcon 9</td>\n      <td>7060.000000</td>\n      <td>GTO</td>\n      <td>CCAFS SLC 40</td>\n      <td>True ASDS</td>\n      <td>1</td>\n      <td>True</td>\n      <td>False</td>\n      <td>True</td>\n      <td>5e9e3032383ecb6bb234e7ca</td>\n      <td>5.0</td>\n      <td>5</td>\n      <td>B1049</td>\n      <td>-80.577366</td>\n      <td>28.561857</td>\n    </tr>\n    <tr>\n      <th>59</th>\n      <td>60</td>\n      <td>2018-12-05</td>\n      <td>Falcon 9</td>\n      <td>2573.000000</td>\n      <td>ISS</td>\n      <td>CCAFS SLC 40</td>\n      <td>False RTLS</td>\n      <td>1</td>\n      <td>True</td>\n      <td>False</td>\n      <td>True</td>\n      <td>5e9e3032383ecb267a34e7c7</td>\n      <td>5.0</td>\n      <td>0</td>\n      <td>B1050</td>\n      <td>-80.577366</td>\n      <td>28.561857</td>\n    </tr>\n    <tr>\n      <th>60</th>\n      <td>61</td>\n      <td>2018-12-23</td>\n      <td>Falcon 9</td>\n      <td>4400.000000</td>\n      <td>MEO</td>\n      <td>CCAFS SLC 40</td>\n      <td>None None</td>\n      <td>1</td>\n      <td>False</td>\n      <td>False</td>\n      <td>False</td>\n      <td>NaN</td>\n      <td>5.0</td>\n      <td>0</td>\n      <td>B1054</td>\n      <td>-80.577366</td>\n      <td>28.561857</td>\n    </tr>\n    <tr>\n      <th>63</th>\n      <td>64</td>\n      <td>2019-05-04</td>\n      <td>Falcon 9</td>\n      <td>2482.000000</td>\n      <td>ISS</td>\n      <td>CCAFS SLC 40</td>\n      <td>True ASDS</td>\n      <td>1</td>\n      <td>True</td>\n      <td>False</td>\n      <td>True</td>\n      <td>5e9e3032383ecb6bb234e7ca</td>\n      <td>5.0</td>\n      <td>3</td>\n      <td>B1056</td>\n      <td>-80.577366</td>\n      <td>28.561857</td>\n    </tr>\n    <tr>\n      <th>64</th>\n      <td>65</td>\n      <td>2019-05-24</td>\n      <td>Falcon 9</td>\n      <td>13620.000000</td>\n      <td>VLEO</td>\n      <td>CCAFS SLC 40</td>\n      <td>True ASDS</td>\n      <td>3</td>\n      <td>True</td>\n      <td>True</td>\n      <td>True</td>\n      <td>5e9e3032383ecb6bb234e7ca</td>\n      <td>5.0</td>\n      <td>5</td>\n      <td>B1049</td>\n      <td>-80.577366</td>\n      <td>28.561857</td>\n    </tr>\n    <tr>\n      <th>66</th>\n      <td>67</td>\n      <td>2019-07-25</td>\n      <td>Falcon 9</td>\n      <td>2227.700000</td>\n      <td>ISS</td>\n      <td>CCAFS SLC 40</td>\n      <td>True RTLS</td>\n      <td>2</td>\n      <td>True</td>\n      <td>True</td>\n      <td>True</td>\n      <td>5e9e3032383ecb267a34e7c7</td>\n      <td>5.0</td>\n      <td>3</td>\n      <td>B1056</td>\n      <td>-80.577366</td>\n      <td>28.561857</td>\n    </tr>\n    <tr>\n      <th>67</th>\n      <td>68</td>\n      <td>2019-08-06</td>\n      <td>Falcon 9</td>\n      <td>6500.000000</td>\n      <td>GTO</td>\n      <td>CCAFS SLC 40</td>\n      <td>None None</td>\n      <td>3</td>\n      <td>False</td>\n      <td>True</td>\n      <td>False</td>\n      <td>NaN</td>\n      <td>5.0</td>\n      <td>2</td>\n      <td>B1047</td>\n      <td>-80.577366</td>\n      <td>28.561857</td>\n    </tr>\n    <tr>\n      <th>68</th>\n      <td>69</td>\n      <td>2019-11-11</td>\n      <td>Falcon 9</td>\n      <td>15600.000000</td>\n      <td>VLEO</td>\n      <td>CCAFS SLC 40</td>\n      <td>True ASDS</td>\n      <td>4</td>\n      <td>True</td>\n      <td>True</td>\n      <td>True</td>\n      <td>5e9e3032383ecb6bb234e7ca</td>\n      <td>5.0</td>\n      <td>4</td>\n      <td>B1048</td>\n      <td>-80.577366</td>\n      <td>28.561857</td>\n    </tr>\n    <tr>\n      <th>69</th>\n      <td>70</td>\n      <td>2019-12-05</td>\n      <td>Falcon 9</td>\n      <td>5000.000000</td>\n      <td>ISS</td>\n      <td>CCAFS SLC 40</td>\n      <td>True ASDS</td>\n      <td>1</td>\n      <td>True</td>\n      <td>False</td>\n      <td>True</td>\n      <td>5e9e3032383ecb6bb234e7ca</td>\n      <td>5.0</td>\n      <td>3</td>\n      <td>B1059</td>\n      <td>-80.577366</td>\n      <td>28.561857</td>\n    </tr>\n    <tr>\n      <th>70</th>\n      <td>71</td>\n      <td>2019-12-17</td>\n      <td>Falcon 9</td>\n      <td>6800.000000</td>\n      <td>GTO</td>\n      <td>CCAFS SLC 40</td>\n      <td>True ASDS</td>\n      <td>3</td>\n      <td>True</td>\n      <td>True</td>\n      <td>True</td>\n      <td>5e9e3032383ecb6bb234e7ca</td>\n      <td>5.0</td>\n      <td>3</td>\n      <td>B1056</td>\n      <td>-80.577366</td>\n      <td>28.561857</td>\n    </tr>\n    <tr>\n      <th>71</th>\n      <td>72</td>\n      <td>2020-01-07</td>\n      <td>Falcon 9</td>\n      <td>15400.000000</td>\n      <td>VLEO</td>\n      <td>CCAFS SLC 40</td>\n      <td>True ASDS</td>\n      <td>4</td>\n      <td>True</td>\n      <td>True</td>\n      <td>True</td>\n      <td>5e9e3032383ecb6bb234e7ca</td>\n      <td>5.0</td>\n      <td>5</td>\n      <td>B1049</td>\n      <td>-80.577366</td>\n      <td>28.561857</td>\n    </tr>\n    <tr>\n      <th>73</th>\n      <td>74</td>\n      <td>2020-01-29</td>\n      <td>Falcon 9</td>\n      <td>15600.000000</td>\n      <td>VLEO</td>\n      <td>CCAFS SLC 40</td>\n      <td>True ASDS</td>\n      <td>3</td>\n      <td>True</td>\n      <td>True</td>\n      <td>True</td>\n      <td>5e9e3032383ecb6bb234e7ca</td>\n      <td>5.0</td>\n      <td>5</td>\n      <td>B1051</td>\n      <td>-80.577366</td>\n      <td>28.561857</td>\n    </tr>\n    <tr>\n      <th>74</th>\n      <td>75</td>\n      <td>2020-02-17</td>\n      <td>Falcon 9</td>\n      <td>15400.000000</td>\n      <td>VLEO</td>\n      <td>CCAFS SLC 40</td>\n      <td>False ASDS</td>\n      <td>4</td>\n      <td>True</td>\n      <td>True</td>\n      <td>True</td>\n      <td>5e9e3032383ecb6bb234e7ca</td>\n      <td>5.0</td>\n      <td>3</td>\n      <td>B1056</td>\n      <td>-80.577366</td>\n      <td>28.561857</td>\n    </tr>\n    <tr>\n      <th>75</th>\n      <td>76</td>\n      <td>2020-03-07</td>\n      <td>Falcon 9</td>\n      <td>1977.000000</td>\n      <td>ISS</td>\n      <td>CCAFS SLC 40</td>\n      <td>True RTLS</td>\n      <td>2</td>\n      <td>True</td>\n      <td>True</td>\n      <td>True</td>\n      <td>5e9e3032383ecb267a34e7c7</td>\n      <td>5.0</td>\n      <td>3</td>\n      <td>B1059</td>\n      <td>-80.577366</td>\n      <td>28.561857</td>\n    </tr>\n    <tr>\n      <th>79</th>\n      <td>80</td>\n      <td>2020-06-04</td>\n      <td>Falcon 9</td>\n      <td>15400.000000</td>\n      <td>VLEO</td>\n      <td>CCAFS SLC 40</td>\n      <td>True ASDS</td>\n      <td>5</td>\n      <td>True</td>\n      <td>True</td>\n      <td>True</td>\n      <td>5e9e3033383ecbb9e534e7cc</td>\n      <td>5.0</td>\n      <td>5</td>\n      <td>B1049</td>\n      <td>-80.577366</td>\n      <td>28.561857</td>\n    </tr>\n    <tr>\n      <th>80</th>\n      <td>81</td>\n      <td>2020-06-13</td>\n      <td>Falcon 9</td>\n      <td>15400.000000</td>\n      <td>VLEO</td>\n      <td>CCAFS SLC 40</td>\n      <td>True ASDS</td>\n      <td>3</td>\n      <td>True</td>\n      <td>True</td>\n      <td>True</td>\n      <td>5e9e3032383ecb6bb234e7ca</td>\n      <td>5.0</td>\n      <td>3</td>\n      <td>B1059</td>\n      <td>-80.577366</td>\n      <td>28.561857</td>\n    </tr>\n    <tr>\n      <th>81</th>\n      <td>82</td>\n      <td>2020-06-30</td>\n      <td>Falcon 9</td>\n      <td>3880.000000</td>\n      <td>MEO</td>\n      <td>CCAFS SLC 40</td>\n      <td>True ASDS</td>\n      <td>1</td>\n      <td>True</td>\n      <td>False</td>\n      <td>True</td>\n      <td>5e9e3033383ecbb9e534e7cc</td>\n      <td>5.0</td>\n      <td>2</td>\n      <td>B1060</td>\n      <td>-80.577366</td>\n      <td>28.561857</td>\n    </tr>\n    <tr>\n      <th>82</th>\n      <td>83</td>\n      <td>2020-07-20</td>\n      <td>Falcon 9</td>\n      <td>6104.959412</td>\n      <td>GEO</td>\n      <td>CCAFS SLC 40</td>\n      <td>True ASDS</td>\n      <td>2</td>\n      <td>True</td>\n      <td>True</td>\n      <td>True</td>\n      <td>5e9e3033383ecbb9e534e7cc</td>\n      <td>5.0</td>\n      <td>2</td>\n      <td>B1058</td>\n      <td>-80.577366</td>\n      <td>28.561857</td>\n    </tr>\n    <tr>\n      <th>83</th>\n      <td>84</td>\n      <td>2020-08-18</td>\n      <td>Falcon 9</td>\n      <td>15400.000000</td>\n      <td>VLEO</td>\n      <td>CCAFS SLC 40</td>\n      <td>True ASDS</td>\n      <td>6</td>\n      <td>True</td>\n      <td>True</td>\n      <td>True</td>\n      <td>5e9e3032383ecb6bb234e7ca</td>\n      <td>5.0</td>\n      <td>5</td>\n      <td>B1049</td>\n      <td>-80.577366</td>\n      <td>28.561857</td>\n    </tr>\n    <tr>\n      <th>84</th>\n      <td>85</td>\n      <td>2020-08-30</td>\n      <td>Falcon 9</td>\n      <td>1600.000000</td>\n      <td>SSO</td>\n      <td>CCAFS SLC 40</td>\n      <td>True RTLS</td>\n      <td>4</td>\n      <td>True</td>\n      <td>True</td>\n      <td>True</td>\n      <td>5e9e3032383ecb267a34e7c7</td>\n      <td>5.0</td>\n      <td>3</td>\n      <td>B1059</td>\n      <td>-80.577366</td>\n      <td>28.561857</td>\n    </tr>\n    <tr>\n      <th>88</th>\n      <td>89</td>\n      <td>2020-10-24</td>\n      <td>Falcon 9</td>\n      <td>15400.000000</td>\n      <td>VLEO</td>\n      <td>CCAFS SLC 40</td>\n      <td>True ASDS</td>\n      <td>3</td>\n      <td>True</td>\n      <td>True</td>\n      <td>True</td>\n      <td>5e9e3033383ecbb9e534e7cc</td>\n      <td>5.0</td>\n      <td>2</td>\n      <td>B1060</td>\n      <td>-80.577366</td>\n      <td>28.561857</td>\n    </tr>\n    <tr>\n      <th>89</th>\n      <td>90</td>\n      <td>2020-11-05</td>\n      <td>Falcon 9</td>\n      <td>3681.000000</td>\n      <td>MEO</td>\n      <td>CCAFS SLC 40</td>\n      <td>True ASDS</td>\n      <td>1</td>\n      <td>True</td>\n      <td>False</td>\n      <td>True</td>\n      <td>5e9e3032383ecb6bb234e7ca</td>\n      <td>5.0</td>\n      <td>0</td>\n      <td>B1062</td>\n      <td>-80.577366</td>\n      <td>28.561857</td>\n    </tr>\n  </tbody>\n</table>\n</div>",
                        "text/plain": "    FlightNumber        Date BoosterVersion   PayloadMass  Orbit  \\\n0              1  2010-06-04       Falcon 9   6104.959412    LEO   \n1              2  2012-05-22       Falcon 9    525.000000    LEO   \n2              3  2013-03-01       Falcon 9    677.000000    ISS   \n4              5  2013-12-03       Falcon 9   3170.000000    GTO   \n5              6  2014-01-06       Falcon 9   3325.000000    GTO   \n6              7  2014-04-18       Falcon 9   2296.000000    ISS   \n7              8  2014-07-14       Falcon 9   1316.000000    LEO   \n8              9  2014-08-05       Falcon 9   4535.000000    GTO   \n9             10  2014-09-07       Falcon 9   4428.000000    GTO   \n10            11  2014-09-21       Falcon 9   2216.000000    ISS   \n11            12  2015-01-10       Falcon 9   2395.000000    ISS   \n12            13  2015-02-11       Falcon 9    570.000000  ES-L1   \n13            14  2015-04-14       Falcon 9   1898.000000    ISS   \n14            15  2015-04-27       Falcon 9   4707.000000    GTO   \n15            16  2015-06-28       Falcon 9   2477.000000    ISS   \n16            17  2015-12-22       Falcon 9   2034.000000    LEO   \n18            19  2016-03-04       Falcon 9   5271.000000    GTO   \n19            20  2016-04-08       Falcon 9   3136.000000    ISS   \n20            21  2016-05-06       Falcon 9   4696.000000    GTO   \n21            22  2016-05-27       Falcon 9   3100.000000    GTO   \n22            23  2016-07-18       Falcon 9   2257.000000    ISS   \n23            24  2016-08-14       Falcon 9   4600.000000    GTO   \n24            25  2016-09-01       Falcon 9   5500.000000    GTO   \n41            42  2017-12-15       Falcon 9   2205.000000    ISS   \n43            44  2018-01-08       Falcon 9   6104.959412    LEO   \n44            45  2018-01-31       Falcon 9   4230.000000    GTO   \n45            46  2018-03-06       Falcon 9   6092.000000    GTO   \n47            48  2018-04-02       Falcon 9   2760.000000    ISS   \n48            49  2018-04-18       Falcon 9    350.000000    HEO   \n50            51  2018-06-04       Falcon 9   5383.850000    GTO   \n51            52  2018-06-29       Falcon 9   2410.000000    ISS   \n52            53  2018-07-22       Falcon 9   7076.000000    GTO   \n54            55  2018-08-07       Falcon 9   5800.000000    GTO   \n55            56  2018-09-10       Falcon 9   7060.000000    GTO   \n59            60  2018-12-05       Falcon 9   2573.000000    ISS   \n60            61  2018-12-23       Falcon 9   4400.000000    MEO   \n63            64  2019-05-04       Falcon 9   2482.000000    ISS   \n64            65  2019-05-24       Falcon 9  13620.000000   VLEO   \n66            67  2019-07-25       Falcon 9   2227.700000    ISS   \n67            68  2019-08-06       Falcon 9   6500.000000    GTO   \n68            69  2019-11-11       Falcon 9  15600.000000   VLEO   \n69            70  2019-12-05       Falcon 9   5000.000000    ISS   \n70            71  2019-12-17       Falcon 9   6800.000000    GTO   \n71            72  2020-01-07       Falcon 9  15400.000000   VLEO   \n73            74  2020-01-29       Falcon 9  15600.000000   VLEO   \n74            75  2020-02-17       Falcon 9  15400.000000   VLEO   \n75            76  2020-03-07       Falcon 9   1977.000000    ISS   \n79            80  2020-06-04       Falcon 9  15400.000000   VLEO   \n80            81  2020-06-13       Falcon 9  15400.000000   VLEO   \n81            82  2020-06-30       Falcon 9   3880.000000    MEO   \n82            83  2020-07-20       Falcon 9   6104.959412    GEO   \n83            84  2020-08-18       Falcon 9  15400.000000   VLEO   \n84            85  2020-08-30       Falcon 9   1600.000000    SSO   \n88            89  2020-10-24       Falcon 9  15400.000000   VLEO   \n89            90  2020-11-05       Falcon 9   3681.000000    MEO   \n\n      LaunchSite      Outcome  Flights  GridFins  Reused   Legs  \\\n0   CCAFS SLC 40    None None        1     False   False  False   \n1   CCAFS SLC 40    None None        1     False   False  False   \n2   CCAFS SLC 40    None None        1     False   False  False   \n4   CCAFS SLC 40    None None        1     False   False  False   \n5   CCAFS SLC 40    None None        1     False   False  False   \n6   CCAFS SLC 40   True Ocean        1     False   False   True   \n7   CCAFS SLC 40   True Ocean        1     False   False   True   \n8   CCAFS SLC 40    None None        1     False   False  False   \n9   CCAFS SLC 40    None None        1     False   False  False   \n10  CCAFS SLC 40  False Ocean        1     False   False  False   \n11  CCAFS SLC 40   False ASDS        1      True   False   True   \n12  CCAFS SLC 40   True Ocean        1      True   False   True   \n13  CCAFS SLC 40   False ASDS        1      True   False   True   \n14  CCAFS SLC 40    None None        1     False   False  False   \n15  CCAFS SLC 40    None ASDS        1      True   False   True   \n16  CCAFS SLC 40    True RTLS        1      True   False   True   \n18  CCAFS SLC 40   False ASDS        1      True   False   True   \n19  CCAFS SLC 40    True ASDS        1      True   False   True   \n20  CCAFS SLC 40    True ASDS        1      True   False   True   \n21  CCAFS SLC 40    True ASDS        1      True   False   True   \n22  CCAFS SLC 40    True RTLS        1      True   False   True   \n23  CCAFS SLC 40    True ASDS        1      True   False   True   \n24  CCAFS SLC 40    None ASDS        1      True   False   True   \n41  CCAFS SLC 40    True RTLS        2      True    True   True   \n43  CCAFS SLC 40    True RTLS        1      True   False   True   \n44  CCAFS SLC 40   True Ocean        2      True    True   True   \n45  CCAFS SLC 40    None None        1      True   False   True   \n47  CCAFS SLC 40    None None        2      True    True   True   \n48  CCAFS SLC 40    True ASDS        1      True   False   True   \n50  CCAFS SLC 40    None None        2     False    True  False   \n51  CCAFS SLC 40    None None        2     False    True  False   \n52  CCAFS SLC 40    True ASDS        1      True   False   True   \n54  CCAFS SLC 40    True ASDS        2      True    True   True   \n55  CCAFS SLC 40    True ASDS        1      True   False   True   \n59  CCAFS SLC 40   False RTLS        1      True   False   True   \n60  CCAFS SLC 40    None None        1     False   False  False   \n63  CCAFS SLC 40    True ASDS        1      True   False   True   \n64  CCAFS SLC 40    True ASDS        3      True    True   True   \n66  CCAFS SLC 40    True RTLS        2      True    True   True   \n67  CCAFS SLC 40    None None        3     False    True  False   \n68  CCAFS SLC 40    True ASDS        4      True    True   True   \n69  CCAFS SLC 40    True ASDS        1      True   False   True   \n70  CCAFS SLC 40    True ASDS        3      True    True   True   \n71  CCAFS SLC 40    True ASDS        4      True    True   True   \n73  CCAFS SLC 40    True ASDS        3      True    True   True   \n74  CCAFS SLC 40   False ASDS        4      True    True   True   \n75  CCAFS SLC 40    True RTLS        2      True    True   True   \n79  CCAFS SLC 40    True ASDS        5      True    True   True   \n80  CCAFS SLC 40    True ASDS        3      True    True   True   \n81  CCAFS SLC 40    True ASDS        1      True   False   True   \n82  CCAFS SLC 40    True ASDS        2      True    True   True   \n83  CCAFS SLC 40    True ASDS        6      True    True   True   \n84  CCAFS SLC 40    True RTLS        4      True    True   True   \n88  CCAFS SLC 40    True ASDS        3      True    True   True   \n89  CCAFS SLC 40    True ASDS        1      True   False   True   \n\n                  LandingPad  Block  ReusedCount Serial  Longitude   Latitude  \n0                        NaN    1.0            0  B0003 -80.577366  28.561857  \n1                        NaN    1.0            0  B0005 -80.577366  28.561857  \n2                        NaN    1.0            0  B0007 -80.577366  28.561857  \n4                        NaN    1.0            0  B1004 -80.577366  28.561857  \n5                        NaN    1.0            0  B1005 -80.577366  28.561857  \n6                        NaN    1.0            0  B1006 -80.577366  28.561857  \n7                        NaN    1.0            0  B1007 -80.577366  28.561857  \n8                        NaN    1.0            0  B1008 -80.577366  28.561857  \n9                        NaN    1.0            0  B1011 -80.577366  28.561857  \n10                       NaN    1.0            0  B1010 -80.577366  28.561857  \n11  5e9e3032383ecb761634e7cb    1.0            0  B1012 -80.577366  28.561857  \n12                       NaN    1.0            0  B1013 -80.577366  28.561857  \n13  5e9e3032383ecb761634e7cb    1.0            0  B1015 -80.577366  28.561857  \n14                       NaN    1.0            0  B1016 -80.577366  28.561857  \n15  5e9e3032383ecb6bb234e7ca    1.0            0  B1018 -80.577366  28.561857  \n16  5e9e3032383ecb267a34e7c7    1.0            0  B1019 -80.577366  28.561857  \n18  5e9e3032383ecb6bb234e7ca    1.0            0  B1020 -80.577366  28.561857  \n19  5e9e3032383ecb6bb234e7ca    2.0            1  B1021 -80.577366  28.561857  \n20  5e9e3032383ecb6bb234e7ca    2.0            0  B1022 -80.577366  28.561857  \n21  5e9e3032383ecb6bb234e7ca    2.0            1  B1023 -80.577366  28.561857  \n22  5e9e3032383ecb267a34e7c7    2.0            1  B1025 -80.577366  28.561857  \n23  5e9e3032383ecb6bb234e7ca    2.0            0  B1026 -80.577366  28.561857  \n24  5e9e3032383ecb6bb234e7ca    3.0            0  B1028 -80.577366  28.561857  \n41  5e9e3032383ecb267a34e7c7    3.0            1  B1035 -80.577366  28.561857  \n43  5e9e3032383ecb267a34e7c7    4.0            1  B1043 -80.577366  28.561857  \n44                       NaN    3.0            1  B1032 -80.577366  28.561857  \n45                       NaN    4.0            0  B1044 -80.577366  28.561857  \n47                       NaN    4.0            1  B1039 -80.577366  28.561857  \n48  5e9e3032383ecb6bb234e7ca    4.0            1  B1045 -80.577366  28.561857  \n50                       NaN    4.0            1  B1040 -80.577366  28.561857  \n51                       NaN    4.0            1  B1045 -80.577366  28.561857  \n52  5e9e3032383ecb6bb234e7ca    5.0            2  B1047 -80.577366  28.561857  \n54  5e9e3032383ecb6bb234e7ca    5.0            3  B1046 -80.577366  28.561857  \n55  5e9e3032383ecb6bb234e7ca    5.0            5  B1049 -80.577366  28.561857  \n59  5e9e3032383ecb267a34e7c7    5.0            0  B1050 -80.577366  28.561857  \n60                       NaN    5.0            0  B1054 -80.577366  28.561857  \n63  5e9e3032383ecb6bb234e7ca    5.0            3  B1056 -80.577366  28.561857  \n64  5e9e3032383ecb6bb234e7ca    5.0            5  B1049 -80.577366  28.561857  \n66  5e9e3032383ecb267a34e7c7    5.0            3  B1056 -80.577366  28.561857  \n67                       NaN    5.0            2  B1047 -80.577366  28.561857  \n68  5e9e3032383ecb6bb234e7ca    5.0            4  B1048 -80.577366  28.561857  \n69  5e9e3032383ecb6bb234e7ca    5.0            3  B1059 -80.577366  28.561857  \n70  5e9e3032383ecb6bb234e7ca    5.0            3  B1056 -80.577366  28.561857  \n71  5e9e3032383ecb6bb234e7ca    5.0            5  B1049 -80.577366  28.561857  \n73  5e9e3032383ecb6bb234e7ca    5.0            5  B1051 -80.577366  28.561857  \n74  5e9e3032383ecb6bb234e7ca    5.0            3  B1056 -80.577366  28.561857  \n75  5e9e3032383ecb267a34e7c7    5.0            3  B1059 -80.577366  28.561857  \n79  5e9e3033383ecbb9e534e7cc    5.0            5  B1049 -80.577366  28.561857  \n80  5e9e3032383ecb6bb234e7ca    5.0            3  B1059 -80.577366  28.561857  \n81  5e9e3033383ecbb9e534e7cc    5.0            2  B1060 -80.577366  28.561857  \n82  5e9e3033383ecbb9e534e7cc    5.0            2  B1058 -80.577366  28.561857  \n83  5e9e3032383ecb6bb234e7ca    5.0            5  B1049 -80.577366  28.561857  \n84  5e9e3032383ecb267a34e7c7    5.0            3  B1059 -80.577366  28.561857  \n88  5e9e3033383ecbb9e534e7cc    5.0            2  B1060 -80.577366  28.561857  \n89  5e9e3032383ecb6bb234e7ca    5.0            0  B1062 -80.577366  28.561857  "
                    },
                    "execution_count": 6,
                    "metadata": {},
                    "output_type": "execute_result"
                }
            ],
            "source": "df[df['LaunchSite']=='CCAFS SLC 40']"
        },
        {
            "cell_type": "markdown",
            "metadata": {
                "pycharm": {
                    "name": "#%% md\n"
                }
            },
            "source": "Identify and calculate the percentage of the missing values in each attribute\n"
        },
        {
            "cell_type": "code",
            "execution_count": 3,
            "metadata": {
                "pycharm": {
                    "name": "#%%\n"
                }
            },
            "outputs": [
                {
                    "data": {
                        "text/plain": "FlightNumber       0.000\nDate               0.000\nBoosterVersion     0.000\nPayloadMass        0.000\nOrbit              0.000\nLaunchSite         0.000\nOutcome            0.000\nFlights            0.000\nGridFins           0.000\nReused             0.000\nLegs               0.000\nLandingPad        40.625\nBlock              0.000\nReusedCount        0.000\nSerial             0.000\nLongitude          0.000\nLatitude           0.000\ndtype: float64"
                    },
                    "execution_count": 3,
                    "metadata": {},
                    "output_type": "execute_result"
                }
            ],
            "source": "df.isnull().sum()/df.count()*100"
        },
        {
            "cell_type": "markdown",
            "metadata": {
                "pycharm": {
                    "name": "#%% md\n"
                }
            },
            "source": "Identify which columns are numerical and categorical:\n"
        },
        {
            "cell_type": "code",
            "execution_count": 18,
            "metadata": {
                "pycharm": {
                    "name": "#%%\n"
                }
            },
            "outputs": [
                {
                    "data": {
                        "text/plain": "0.28888888888888886"
                    },
                    "execution_count": 18,
                    "metadata": {},
                    "output_type": "execute_result"
                }
            ],
            "source": "df['LandingPad'].isnull().sum() / df['LandingPad'].shape[0]"
        },
        {
            "cell_type": "markdown",
            "metadata": {
                "pycharm": {
                    "name": "#%% md\n"
                }
            },
            "source": "### TASK 1: Calculate the number of launches on each site\n\nThe data contains several Space X  launch facilities: <a href='https://en.wikipedia.org/wiki/List_of_Cape_Canaveral_and_Merritt_Island_launch_sites?utm_medium=Exinfluencer&utm_source=Exinfluencer&utm_content=000026UJ&utm_term=10006555&utm_id=NA-SkillsNetwork-Channel-SkillsNetworkCoursesIBMDS0321ENSkillsNetwork26802033-2022-01-01'>Cape Canaveral Space</a> Launch Complex 40  <b>VAFB SLC 4E </b> , Vandenberg Air Force Base Space Launch Complex 4E <b>(SLC-4E)</b>, Kennedy Space Center Launch Complex 39A <b>KSC LC 39A </b>.The location of each Launch Is placed in the column <code>LaunchSite</code>\n"
        },
        {
            "cell_type": "markdown",
            "metadata": {
                "pycharm": {
                    "name": "#%% md\n"
                }
            },
            "source": "Next, let's see the number of launches for each site.\n\nUse the method  <code>value_counts()</code> on the column <code>LaunchSite</code> to determine the number of launches  on each site:\n"
        },
        {
            "cell_type": "code",
            "execution_count": 20,
            "metadata": {
                "pycharm": {
                    "name": "#%%\n"
                }
            },
            "outputs": [
                {
                    "data": {
                        "text/plain": "26"
                    },
                    "execution_count": 20,
                    "metadata": {},
                    "output_type": "execute_result"
                }
            ],
            "source": "# Apply value_counts() on column LaunchSite\ndf['LandingPad'].isnull().sum()"
        },
        {
            "cell_type": "markdown",
            "metadata": {
                "pycharm": {
                    "name": "#%% md\n"
                }
            },
            "source": "Each launch aims to an dedicated orbit, and here are some common orbit types:\n"
        },
        {
            "cell_type": "markdown",
            "metadata": {
                "pycharm": {
                    "name": "#%% md\n"
                }
            },
            "source": "*   <b>LEO</b>: Low Earth orbit (LEO)is an Earth-centred orbit with an altitude of 2,000 km (1,200 mi) or less (approximately one-third of the radius of Earth),\\[1] or with at least 11.25 periods per day (an orbital period of 128 minutes or less) and an eccentricity less than 0.25.\\[2] Most of the manmade objects in outer space are in LEO <a href='https://en.wikipedia.org/wiki/Low_Earth_orbit?utm_medium=Exinfluencer&utm_source=Exinfluencer&utm_content=000026UJ&utm_term=10006555&utm_id=NA-SkillsNetwork-Channel-SkillsNetworkCoursesIBMDS0321ENSkillsNetwork26802033-2022-01-01'>\\[1]</a>.\n\n*   <b>VLEO</b>: Very Low Earth Orbits (VLEO) can be defined as the orbits with a mean altitude below 450 km. Operating in these orbits can provide a number of benefits to Earth observation spacecraft as the spacecraft operates closer to the observation<a href='https://www.researchgate.net/publication/271499606_Very_Low_Earth_Orbit_mission_concepts_for_Earth_Observation_Benefits_and_challenges?utm_medium=Exinfluencer&utm_source=Exinfluencer&utm_content=000026UJ&utm_term=10006555&utm_id=NA-SkillsNetwork-Channel-SkillsNetworkCoursesIBMDS0321ENSkillsNetwork26802033-2022-01-01'>\\[2]</a>.\n\n*   <b>GTO</b> A geosynchronous orbit is a high Earth orbit that allows satellites to match Earth's rotation. Located at 22,236 miles (35,786 kilometers) above Earth's equator, this position is a valuable spot for monitoring weather, communications and surveillance. Because the satellite orbits at the same speed that the Earth is turning, the satellite seems to stay in place over a single longitude, though it may drift north to south,\u201d NASA wrote on its Earth Observatory website <a  href=\"https://www.space.com/29222-geosynchronous-orbit.html?utm_medium=Exinfluencer&utm_source=Exinfluencer&utm_content=000026UJ&utm_term=10006555&utm_id=NA-SkillsNetwork-Channel-SkillsNetworkCoursesIBMDS0321ENSkillsNetwork26802033-2022-01-01\" >\\[3] </a>.\n\n*   <b>SSO (or SO)</b>: It is a Sun-synchronous orbit  also called a heliosynchronous orbit is a nearly polar orbit around a planet, in which the satellite passes over any given point of the planet's surface at the same local mean solar time <a href=\"https://en.wikipedia.org/wiki/Sun-synchronous_orbit?utm_medium=Exinfluencer&utm_source=Exinfluencer&utm_content=000026UJ&utm_term=10006555&utm_id=NA-SkillsNetwork-Channel-SkillsNetworkCoursesIBMDS0321ENSkillsNetwork26802033-2022-01-01\">\\[4] <a>.\n\n*   <b>ES-L1 </b>:At the Lagrange points the gravitational forces of the two large bodies cancel out in such a way that a small object placed in orbit there is in equilibrium relative to the center of mass of the large bodies. L1 is one such point between the sun and the earth <a href=\"https://en.wikipedia.org/wiki/Lagrange_point?utm_medium=Exinfluencer&utm_source=Exinfluencer&utm_content=000026UJ&utm_term=10006555&utm_id=NA-SkillsNetwork-Channel-SkillsNetworkCoursesIBMDS0321ENSkillsNetwork26802033-2022-01-01#L1_point\">\\[5]</a> .\n\n*   <b>HEO</b> A highly elliptical orbit, is an elliptic orbit with high eccentricity, usually referring to one around Earth <a href=\"https://en.wikipedia.org/wiki/Highly_elliptical_orbit?utm_medium=Exinfluencer&utm_source=Exinfluencer&utm_content=000026UJ&utm_term=10006555&utm_id=NA-SkillsNetwork-Channel-SkillsNetworkCoursesIBMDS0321ENSkillsNetwork26802033-2022-01-01\">\\[6]</a>.\n\n*   <b> ISS </b> A modular space station (habitable artificial satellite) in low Earth orbit. It is a multinational collaborative project between five participating space agencies: NASA (United States), Roscosmos (Russia), JAXA (Japan), ESA (Europe), and CSA (Canada)<a href=\"https://en.wikipedia.org/wiki/International_Space_Station?utm_medium=Exinfluencer&utm_source=Exinfluencer&utm_content=000026UJ&utm_term=10006555&utm_id=NA-SkillsNetwork-Channel-SkillsNetworkCoursesIBMDS0321ENSkillsNetwork26802033-2022-01-01\"> \\[7] </a>\n\n*   <b> MEO </b> Geocentric orbits ranging in altitude from 2,000 km (1,200 mi) to just below geosynchronous orbit at 35,786 kilometers (22,236 mi). Also known as an intermediate circular orbit. These are \"most commonly at 20,200 kilometers (12,600 mi), or 20,650 kilometers (12,830 mi), with an orbital period of 12 hours <a href=\"https://en.wikipedia.org/wiki/List_of_orbits?utm_medium=Exinfluencer&utm_source=Exinfluencer&utm_content=000026UJ&utm_term=10006555&utm_id=NA-SkillsNetwork-Channel-SkillsNetworkCoursesIBMDS0321ENSkillsNetwork26802033-2022-01-01\"> \\[8] </a>\n\n*   <b> HEO </b> Geocentric orbits above the altitude of geosynchronous orbit (35,786 km or 22,236 mi) <a href=\"https://en.wikipedia.org/wiki/List_of_orbits?utm_medium=Exinfluencer&utm_source=Exinfluencer&utm_content=000026UJ&utm_term=10006555&utm_id=NA-SkillsNetwork-Channel-SkillsNetworkCoursesIBMDS0321ENSkillsNetwork26802033-2022-01-01\"> \\[9] </a>\n\n*   <b> GEO </b> It is a circular geosynchronous orbit 35,786 kilometres (22,236 miles) above Earth's equator and following the direction of Earth's rotation <a href=\"https://en.wikipedia.org/wiki/Geostationary_orbit?utm_medium=Exinfluencer&utm_source=Exinfluencer&utm_content=000026UJ&utm_term=10006555&utm_id=NA-SkillsNetwork-Channel-SkillsNetworkCoursesIBMDS0321ENSkillsNetwork26802033-2022-01-01\"> \\[10] </a>\n\n*   <b> PO </b> It is one type of satellites in which a satellite passes above or nearly above both poles of the body being orbited (usually a planet such as the Earth <a href=\"https://en.wikipedia.org/wiki/Polar_orbit?utm_medium=Exinfluencer&utm_source=Exinfluencer&utm_content=000026UJ&utm_term=10006555&utm_id=NA-SkillsNetwork-Channel-SkillsNetworkCoursesIBMDS0321ENSkillsNetwork26802033-2022-01-01\"> \\[11] </a>\n\nsome are shown in the following plot:\n"
        },
        {
            "cell_type": "markdown",
            "metadata": {
                "pycharm": {
                    "name": "#%% md\n"
                }
            },
            "source": "![](https://cf-courses-data.s3.us.cloud-object-storage.appdomain.cloud/IBMDeveloperSkillsNetwork-DS0701EN-SkillsNetwork/api/Images/Orbits.png)\n"
        },
        {
            "cell_type": "markdown",
            "metadata": {
                "pycharm": {
                    "name": "#%% md\n"
                }
            },
            "source": "### TASK 2: Calculate the number and occurrence of each orbit\n"
        },
        {
            "cell_type": "markdown",
            "metadata": {
                "pycharm": {
                    "name": "#%% md\n"
                }
            },
            "source": "Use the method  <code>.value_counts()</code> to determine the number and occurrence of each orbit in the  column <code>Orbit</code>\n"
        },
        {
            "cell_type": "code",
            "execution_count": 12,
            "metadata": {
                "pycharm": {
                    "name": "#%%\n"
                }
            },
            "outputs": [
                {
                    "data": {
                        "text/plain": "GTO      27\nISS      21\nVLEO     14\nPO        9\nLEO       7\nSSO       5\nMEO       3\nES-L1     1\nHEO       1\nSO        1\nGEO       1\nName: Orbit, dtype: int64"
                    },
                    "execution_count": 12,
                    "metadata": {},
                    "output_type": "execute_result"
                }
            ],
            "source": "# Apply value_counts on Orbit column\ndf['Orbit'].value_counts()"
        },
        {
            "cell_type": "markdown",
            "metadata": {
                "pycharm": {
                    "name": "#%% md\n"
                }
            },
            "source": "### TASK 3: Calculate the number and occurence of mission outcome per orbit type\n"
        },
        {
            "cell_type": "markdown",
            "metadata": {
                "pycharm": {
                    "name": "#%% md\n"
                }
            },
            "source": "Use the method <code>.value_counts()</code> on the column <code>Outcome</code> to determine the number of <code>landing_outcomes</code>.Then assign it to a variable landing_outcomes.\n"
        },
        {
            "cell_type": "code",
            "execution_count": null,
            "metadata": {
                "pycharm": {
                    "name": "#%%\n"
                }
            },
            "outputs": [],
            "source": "# landing_outcomes = values on Outcome column\n"
        },
        {
            "cell_type": "markdown",
            "metadata": {
                "pycharm": {
                    "name": "#%% md\n"
                }
            },
            "source": "<code>True Ocean</code> means the mission outcome was successfully  landed to a specific region of the ocean while <code>False Ocean</code> means the mission outcome was unsuccessfully landed to a specific region of the ocean. <code>True RTLS</code> means the mission outcome was successfully  landed to a ground pad <code>False RTLS</code> means the mission outcome was unsuccessfully landed to a ground pad.<code>True ASDS</code> means the mission outcome was successfully  landed to a drone ship <code>False ASDS</code> means the mission outcome was unsuccessfully landed to a drone ship. <code>None ASDS</code> and <code>None None</code> these represent a failure to land.\n"
        },
        {
            "cell_type": "code",
            "execution_count": null,
            "metadata": {
                "pycharm": {
                    "name": "#%%\n"
                }
            },
            "outputs": [],
            "source": "for i,outcome in enumerate(landing_outcomes.keys()):\n    print(i,outcome)"
        },
        {
            "cell_type": "markdown",
            "metadata": {
                "pycharm": {
                    "name": "#%% md\n"
                }
            },
            "source": "We create a set of outcomes where the second stage did not land successfully:\n"
        },
        {
            "cell_type": "code",
            "execution_count": null,
            "metadata": {
                "pycharm": {
                    "name": "#%%\n"
                }
            },
            "outputs": [],
            "source": "bad_outcomes=set(landing_outcomes.keys()[[1,3,5,6,7]])\nbad_outcomes"
        },
        {
            "cell_type": "markdown",
            "metadata": {
                "pycharm": {
                    "name": "#%% md\n"
                }
            },
            "source": "### TASK 4: Create a landing outcome label from Outcome column\n"
        },
        {
            "cell_type": "markdown",
            "metadata": {
                "pycharm": {
                    "name": "#%% md\n"
                }
            },
            "source": "Using the <code>Outcome</code>,  create a list where the element is zero if the corresponding  row  in  <code>Outcome</code> is in the set <code>bad_outcome</code>; otherwise, it's one. Then assign it to the variable <code>landing_class</code>:\n"
        },
        {
            "cell_type": "code",
            "execution_count": null,
            "metadata": {
                "pycharm": {
                    "name": "#%%\n"
                }
            },
            "outputs": [],
            "source": "# landing_class = 0 if bad_outcome\n# landing_class = 1 otherwise"
        },
        {
            "cell_type": "markdown",
            "metadata": {
                "pycharm": {
                    "name": "#%% md\n"
                }
            },
            "source": "This variable will represent the classification variable that represents the outcome of each launch. If the value is zero, the  first stage did not land successfully; one means  the first stage landed Successfully\n"
        },
        {
            "cell_type": "code",
            "execution_count": null,
            "metadata": {
                "pycharm": {
                    "name": "#%%\n"
                }
            },
            "outputs": [],
            "source": "df['Class']=landing_class\ndf[['Class']].head(8)"
        },
        {
            "cell_type": "code",
            "execution_count": null,
            "metadata": {
                "pycharm": {
                    "name": "#%%\n"
                }
            },
            "outputs": [],
            "source": "df.head(5)"
        },
        {
            "cell_type": "markdown",
            "metadata": {
                "pycharm": {
                    "name": "#%% md\n"
                }
            },
            "source": "We can use the following line of code to determine  the success rate:\n"
        },
        {
            "cell_type": "code",
            "execution_count": null,
            "metadata": {
                "pycharm": {
                    "name": "#%%\n"
                }
            },
            "outputs": [],
            "source": "df[\"Class\"].mean()"
        },
        {
            "cell_type": "markdown",
            "metadata": {
                "pycharm": {
                    "name": "#%% md\n"
                }
            },
            "source": "We can now export it to a CSV for the next section,but to make the answers consistent, in the next lab we will provide data in a pre-selected date range.\n"
        },
        {
            "cell_type": "markdown",
            "metadata": {
                "pycharm": {
                    "name": "#%% md\n"
                }
            },
            "source": "<code>df.to_csv(\"dataset_part\\_2.csv\", index=False)</code>\n"
        },
        {
            "cell_type": "markdown",
            "metadata": {
                "pycharm": {
                    "name": "#%% md\n"
                }
            },
            "source": "## Authors\n"
        },
        {
            "cell_type": "markdown",
            "metadata": {
                "pycharm": {
                    "name": "#%% md\n"
                }
            },
            "source": "<a href=\"https://www.linkedin.com/in/joseph-s-50398b136/?utm_medium=Exinfluencer&utm_source=Exinfluencer&utm_content=000026UJ&utm_term=10006555&utm_id=NA-SkillsNetwork-Channel-SkillsNetworkCoursesIBMDS0321ENSkillsNetwork26802033-2022-01-01\">Joseph Santarcangelo</a> has a PhD in Electrical Engineering, his research focused on using machine learning, signal processing, and computer vision to determine how videos impact human cognition. Joseph has been working for IBM since he completed his PhD.\n"
        },
        {
            "cell_type": "markdown",
            "metadata": {
                "pycharm": {
                    "name": "#%% md\n"
                }
            },
            "source": "<a href=\"https://www.linkedin.com/in/nayefaboutayoun/?utm_medium=Exinfluencer&utm_source=Exinfluencer&utm_content=000026UJ&utm_term=10006555&utm_id=NA-SkillsNetwork-Channel-SkillsNetworkCoursesIBMDS0321ENSkillsNetwork26802033-2022-01-01\">Nayef Abou Tayoun</a> is a Data Scientist at IBM and pursuing a Master of Management in Artificial intelligence degree at Queen's University.\n"
        },
        {
            "cell_type": "markdown",
            "metadata": {
                "pycharm": {
                    "name": "#%% md\n"
                }
            },
            "source": "## Change Log\n"
        },
        {
            "cell_type": "markdown",
            "metadata": {
                "pycharm": {
                    "name": "#%% md\n"
                }
            },
            "source": "| Date (YYYY-MM-DD) | Version | Changed By    | Change Description      |\n| ----------------- | ------- | ------------- | ----------------------- |\n| 2021-08-31        | 1.1     | Lakshmi Holla | Changed Markdown        |\n| 2020-09-20        | 1.0     | Joseph        | Modified Multiple Areas |\n| 2020-11-04        | 1.1.    | Nayef         | updating the input data |\n| 2021-05-026       | 1.1.    | Joseph        | updating the input data |\n"
        },
        {
            "cell_type": "markdown",
            "metadata": {
                "pycharm": {
                    "name": "#%% md\n"
                }
            },
            "source": "Copyright \u00a9 2021 IBM Corporation. All rights reserved.\n"
        }
    ],
    "metadata": {
        "kernelspec": {
            "display_name": "Python 3.10",
            "language": "python",
            "name": "python3"
        },
        "language_info": {
            "codemirror_mode": {
                "name": "ipython",
                "version": 3
            },
            "file_extension": ".py",
            "mimetype": "text/x-python",
            "name": "python",
            "nbconvert_exporter": "python",
            "pygments_lexer": "ipython3",
            "version": "3.10.6"
        }
    },
    "nbformat": 4,
    "nbformat_minor": 4
}